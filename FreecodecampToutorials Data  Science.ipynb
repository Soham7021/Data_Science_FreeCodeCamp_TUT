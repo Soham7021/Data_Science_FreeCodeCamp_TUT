{
 "cells": [
  {
   "cell_type": "markdown",
   "id": "2377ef66",
   "metadata": {},
   "source": [
    "# #How To Check The Type Of The VERIABLE"
   ]
  },
  {
   "cell_type": "code",
   "execution_count": 8,
   "id": "8a7c6c51",
   "metadata": {},
   "outputs": [
    {
     "name": "stdout",
     "output_type": "stream",
     "text": [
      "Variable   Type       Data/Info\n",
      "-------------------------------\n",
      "a          int        1\n",
      "b          float      4.1\n",
      "c          str        2\n",
      "d          complex    (4+8j)\n",
      "e          tuple      n=2\n"
     ]
    }
   ],
   "source": [
    "a = 1\n",
    "b = 4.1\n",
    "c = \"2\"\n",
    "d = 4+8j\n",
    "e = \"shfld\",4\n",
    "%whos"
   ]
  },
  {
   "cell_type": "markdown",
   "id": "bee49e65",
   "metadata": {},
   "source": [
    "# How To Delete The Veriable"
   ]
  },
  {
   "cell_type": "code",
   "execution_count": 5,
   "id": "c73c92a2",
   "metadata": {},
   "outputs": [
    {
     "name": "stdout",
     "output_type": "stream",
     "text": [
      "Variable   Type     Data/Info\n",
      "-----------------------------\n",
      "a          int      1\n",
      "b          float    4.1\n"
     ]
    }
   ],
   "source": [
    "del c\n",
    "%whos"
   ]
  },
  {
   "cell_type": "markdown",
   "id": "9c265a3c",
   "metadata": {},
   "source": [
    "#  :-In Boolean Equations And Function will Always Applied first except if Paranthesis is Mentioned"
   ]
  },
  {
   "cell_type": "markdown",
   "id": "d7f38c3a",
   "metadata": {},
   "source": [
    "# ~Rounding Of the Number's"
   ]
  },
  {
   "cell_type": "code",
   "execution_count": 1,
   "id": "56ecbd01",
   "metadata": {},
   "outputs": [
    {
     "name": "stdout",
     "output_type": "stream",
     "text": [
      "6\n"
     ]
    }
   ],
   "source": [
    "z = 6.246455\n",
    "print(round(z))"
   ]
  },
  {
   "cell_type": "code",
   "execution_count": 2,
   "id": "87339bab",
   "metadata": {},
   "outputs": [
    {
     "name": "stdout",
     "output_type": "stream",
     "text": [
      "7\n"
     ]
    }
   ],
   "source": [
    "x = 6.5628\n",
    "print(round(x))"
   ]
  },
  {
   "cell_type": "code",
   "execution_count": 3,
   "id": "082694ec",
   "metadata": {},
   "outputs": [
    {
     "name": "stdout",
     "output_type": "stream",
     "text": [
      "8.2985\n"
     ]
    }
   ],
   "source": [
    "w = 8.298476521\n",
    "print(round(w,4))"
   ]
  },
  {
   "cell_type": "code",
   "execution_count": 6,
   "id": "d97717ba",
   "metadata": {},
   "outputs": [
    {
     "name": "stdout",
     "output_type": "stream",
     "text": [
      "3.1248\n"
     ]
    }
   ],
   "source": [
    "v = 3.12482\n",
    "print(round(v,4))"
   ]
  },
  {
   "cell_type": "markdown",
   "id": "d78985b5",
   "metadata": {},
   "source": [
    "# ~Obtaining Questiont And Remainder"
   ]
  },
  {
   "cell_type": "code",
   "execution_count": 1,
   "id": "324507fa",
   "metadata": {},
   "outputs": [
    {
     "data": {
      "text/plain": [
       "(3, 4)"
      ]
     },
     "execution_count": 1,
     "metadata": {},
     "output_type": "execute_result"
    }
   ],
   "source": [
    "divmod(34,10)"
   ]
  },
  {
   "cell_type": "code",
   "execution_count": 2,
   "id": "f76295d7",
   "metadata": {},
   "outputs": [
    {
     "data": {
      "text/plain": [
       "(3, 0)"
      ]
     },
     "execution_count": 2,
     "metadata": {},
     "output_type": "execute_result"
    }
   ],
   "source": [
    "divmod(18,6)"
   ]
  },
  {
   "cell_type": "code",
   "execution_count": 3,
   "id": "bfd4052d",
   "metadata": {},
   "outputs": [
    {
     "data": {
      "text/plain": [
       "(0, 8)"
      ]
     },
     "execution_count": 3,
     "metadata": {},
     "output_type": "execute_result"
    }
   ],
   "source": [
    "divmod(8,12)"
   ]
  },
  {
   "cell_type": "markdown",
   "id": "8c912419",
   "metadata": {},
   "source": [
    "# ~Checking The type of the function weather it is True Or False"
   ]
  },
  {
   "cell_type": "code",
   "execution_count": 5,
   "id": "37841da9",
   "metadata": {},
   "outputs": [
    {
     "data": {
      "text/plain": [
       "True"
      ]
     },
     "execution_count": 5,
     "metadata": {},
     "output_type": "execute_result"
    }
   ],
   "source": [
    "isinstance(1,int)"
   ]
  },
  {
   "cell_type": "code",
   "execution_count": 7,
   "id": "c2fb538c",
   "metadata": {},
   "outputs": [
    {
     "data": {
      "text/plain": [
       "True"
      ]
     },
     "execution_count": 7,
     "metadata": {},
     "output_type": "execute_result"
    }
   ],
   "source": [
    "isinstance(2.0,float)"
   ]
  },
  {
   "cell_type": "code",
   "execution_count": 8,
   "id": "9132ea3c",
   "metadata": {},
   "outputs": [
    {
     "data": {
      "text/plain": [
       "False"
      ]
     },
     "execution_count": 8,
     "metadata": {},
     "output_type": "execute_result"
    }
   ],
   "source": [
    "isinstance(2.0,str)"
   ]
  },
  {
   "cell_type": "code",
   "execution_count": 9,
   "id": "c308fb3c",
   "metadata": {},
   "outputs": [
    {
     "data": {
      "text/plain": [
       "True"
      ]
     },
     "execution_count": 9,
     "metadata": {},
     "output_type": "execute_result"
    }
   ],
   "source": [
    "isinstance(23.0,(int,float))"
   ]
  },
  {
   "cell_type": "markdown",
   "id": "8ecf4e15",
   "metadata": {},
   "source": [
    "# ~Taking To The Power And Then Getting Remainder By The third One"
   ]
  },
  {
   "cell_type": "code",
   "execution_count": 10,
   "id": "69f7a0c4",
   "metadata": {},
   "outputs": [
    {
     "data": {
      "text/plain": [
       "2"
      ]
     },
     "execution_count": 10,
     "metadata": {},
     "output_type": "execute_result"
    }
   ],
   "source": [
    "pow(2,3,3)"
   ]
  },
  {
   "cell_type": "markdown",
   "id": "3604497e",
   "metadata": {},
   "source": [
    "i.e 2**3%3"
   ]
  },
  {
   "cell_type": "code",
   "execution_count": 11,
   "id": "7f92c2b4",
   "metadata": {},
   "outputs": [
    {
     "data": {
      "text/plain": [
       "144"
      ]
     },
     "execution_count": 11,
     "metadata": {},
     "output_type": "execute_result"
    }
   ],
   "source": [
    "pow(12,2)"
   ]
  },
  {
   "cell_type": "markdown",
   "id": "e89cb363",
   "metadata": {},
   "source": [
    "# ~Learn To Use The Function"
   ]
  },
  {
   "cell_type": "code",
   "execution_count": 12,
   "id": "94b0dc2b",
   "metadata": {},
   "outputs": [],
   "source": [
    "pow?"
   ]
  },
  {
   "cell_type": "code",
   "execution_count": 13,
   "id": "a0c0fa54",
   "metadata": {},
   "outputs": [],
   "source": [
    "isinstance?"
   ]
  },
  {
   "cell_type": "code",
   "execution_count": 14,
   "id": "ee7b1d71",
   "metadata": {},
   "outputs": [],
   "source": [
    "divmod?"
   ]
  },
  {
   "cell_type": "markdown",
   "id": "9a05a5ed",
   "metadata": {},
   "source": [
    "And Many More......"
   ]
  },
  {
   "cell_type": "markdown",
   "id": "4b265b4c",
   "metadata": {},
   "source": [
    "we can also use diuble questionmark for more information"
   ]
  },
  {
   "cell_type": "code",
   "execution_count": 15,
   "id": "8e7c7a17",
   "metadata": {},
   "outputs": [
    {
     "name": "stdout",
     "output_type": "stream",
     "text": [
      "Help on built-in function pow in module builtins:\n",
      "\n",
      "pow(base, exp, mod=None)\n",
      "    Equivalent to base**exp with 2 arguments or base**exp % mod with 3 arguments\n",
      "    \n",
      "    Some types, such as ints, are able to use a more efficient algorithm when\n",
      "    invoked using the three argument form.\n",
      "\n"
     ]
    }
   ],
   "source": [
    "help(pow)"
   ]
  },
  {
   "cell_type": "markdown",
   "id": "fa2471fc",
   "metadata": {},
   "source": [
    "help functiion is also used instead of questionmark......."
   ]
  },
  {
   "cell_type": "markdown",
   "id": "d66530d1",
   "metadata": {},
   "source": [
    "# ~Nesting IF in IF"
   ]
  },
  {
   "cell_type": "code",
   "execution_count": 24,
   "id": "9675a8ad",
   "metadata": {},
   "outputs": [
    {
     "name": "stdout",
     "output_type": "stream",
     "text": [
      "Enter The Number : 16\n",
      "a is greater Than 10\n",
      "But Less than 20\n",
      "and It is between 20 and 15\n"
     ]
    }
   ],
   "source": [
    "a = int(input(\"Enter The Number : \"))\n",
    "if a > 10:\n",
    "    print(\"a is greater Than 10\")\n",
    "    if a <= 20:\n",
    "        print(\"But Less than 20\")\n",
    "        if a <=20 and a >=15:\n",
    "            print (\"and It is between 20 and 15\")\n",
    "        else:\n",
    "            print(\"and not in between 20 and 15\")\n",
    "    else:\n",
    "        print(\"And Greater Than 20\")\n",
    "else:\n",
    "    print(\"a is smaller Than 10\")\n",
    "        "
   ]
  },
  {
   "cell_type": "markdown",
   "id": "89e0a4e6",
   "metadata": {},
   "source": [
    "# Exercise"
   ]
  },
  {
   "cell_type": "markdown",
   "id": "c4d71418",
   "metadata": {},
   "source": [
    "Q. To get only interger portion\n",
    "for ex. if we input 28.36445 it should only return 28"
   ]
  },
  {
   "cell_type": "code",
   "execution_count": 1,
   "id": "b5d36808",
   "metadata": {},
   "outputs": [
    {
     "name": "stdout",
     "output_type": "stream",
     "text": [
      "Enter The Number : -28.67\n",
      "-28\n",
      "Even\n"
     ]
    }
   ],
   "source": [
    "a = float(input(\"Enter The Number : \"))\n",
    "b = round(a)\n",
    "if a < 0:\n",
    "    if a > b:\n",
    "        interger = (b + 1)\n",
    "    else:\n",
    "        interger = b\n",
    "    print(interger)\n",
    "elif b > 0:\n",
    "        \n",
    "    if a < b:\n",
    "        interger = b - 1\n",
    "    else:\n",
    "        interger = b\n",
    "    print(interger)\n",
    "else:\n",
    "    print(\"Something went Wrong\")\n",
    "if interger % 2 == 0:\n",
    "        print(\"Even\")\n",
    "else:\n",
    "        print(\"Odd\")\n",
    "    \n",
    "\n"
   ]
  },
  {
   "cell_type": "markdown",
   "id": "038a5d84",
   "metadata": {},
   "source": [
    "#                                       :- LOOP'S -:\n"
   ]
  },
  {
   "cell_type": "markdown",
   "id": "43b8d506",
   "metadata": {},
   "source": [
    "# WHILE LOOP :-"
   ]
  },
  {
   "cell_type": "code",
   "execution_count": 4,
   "id": "d08d2da3",
   "metadata": {},
   "outputs": [
    {
     "name": "stdout",
     "output_type": "stream",
     "text": [
      "Enter The No : 5\n",
      "Sq of the no: 1 is\n",
      "1\n",
      "Sq of the no: 2 is\n",
      "4\n",
      "Sq of the no: 3 is\n",
      "9\n",
      "Sq of the no: 4 is\n",
      "16\n",
      "Sq of the no: 5 is\n",
      "25\n",
      "You got what u wanted\n"
     ]
    }
   ],
   "source": [
    "a = int(input(\"Enter The No : \"))\n",
    "b = a+1\n",
    "i = 1\n",
    "while i < b :\n",
    "    print(\"Sq of the no:\", i , \"is\")\n",
    "    print(i**2)\n",
    "    i += 1\n",
    "print(\"You got what u wanted\")"
   ]
  },
  {
   "cell_type": "code",
   "execution_count": 5,
   "id": "05f30015",
   "metadata": {},
   "outputs": [
    {
     "name": "stdout",
     "output_type": "stream",
     "text": [
      "Enter The NO: 5\n",
      "1\n",
      "2\n",
      "3\n",
      "4\n",
      "Done\n"
     ]
    }
   ],
   "source": [
    "a = int(input(\"Enter The NO: \"))\n",
    "i = 1\n",
    "while i < a :\n",
    "    print(i)\n",
    "    i += 1\n",
    "print(\"Done\")"
   ]
  },
  {
   "cell_type": "code",
   "execution_count": 4,
   "id": "4a6d3ad2",
   "metadata": {},
   "outputs": [
    {
     "name": "stdout",
     "output_type": "stream",
     "text": [
      "Enter The No : 6\n",
      "2\n",
      "4\n",
      "6\n",
      "Done\n"
     ]
    }
   ],
   "source": [
    "n = int(input(\"Enter The No : \"))\n",
    "b = n + 1\n",
    "i = 1\n",
    "while i < b :\n",
    "    if i % 2 == 0:\n",
    "        print(i)\n",
    "    else:\n",
    "        pass\n",
    "    i += 1\n",
    "print(\"Done\")"
   ]
  },
  {
   "cell_type": "code",
   "execution_count": 1,
   "id": "08a02eb9",
   "metadata": {},
   "outputs": [
    {
     "name": "stdout",
     "output_type": "stream",
     "text": [
      "Inside Else\n",
      "Inside Else\n",
      "Inside Else\n",
      "Inside Else\n",
      "Inside Else\n",
      "Inside Else\n",
      "Inside if\n",
      "Done\n"
     ]
    }
   ],
   "source": [
    "n = 10\n",
    "i = 1\n",
    "while True:\n",
    "    if i % 7 == 0:\n",
    "        print(\"Inside if\")\n",
    "        break\n",
    "    else:\n",
    "        i += 1 \n",
    "        print(\"Inside Else\")\n",
    "print(\"Done\")"
   ]
  },
  {
   "cell_type": "code",
   "execution_count": 2,
   "id": "41c45ed4",
   "metadata": {},
   "outputs": [
    {
     "name": "stdout",
     "output_type": "stream",
     "text": [
      "Inside The Loop\n",
      "Inside The Loop\n",
      "Inside The Loop\n",
      "Inside The Loop\n",
      "Inside The Loop\n",
      "Inside The Loop\n",
      "Now You Are outside The Loop ,When it is divisible by 7\n",
      "Program Done\n"
     ]
    }
   ],
   "source": [
    "i = 1\n",
    "while True:\n",
    "    if i % 7 != 0 :\n",
    "        print(\"Inside The Loop\")\n",
    "        i += 1\n",
    "        continue\n",
    "    print(\"Now You Are outside The Loop ,When it is divisible by 7\")\n",
    "    break\n",
    "print(\"Program Done\")"
   ]
  },
  {
   "cell_type": "markdown",
   "id": "76ab477c",
   "metadata": {},
   "source": [
    "# FOR LOOP :-"
   ]
  },
  {
   "cell_type": "code",
   "execution_count": 7,
   "id": "a781d280",
   "metadata": {},
   "outputs": [
    {
     "name": "stdout",
     "output_type": "stream",
     "text": [
      "[1, 9, 25, 49, 81]\n"
     ]
    }
   ],
   "source": [
    "L = []\n",
    "for i in range(0,10,2):\n",
    "    i += 1\n",
    "    L.append(i**2)\n",
    "print(L)"
   ]
  },
  {
   "cell_type": "markdown",
   "id": "4a61d4cb",
   "metadata": {},
   "source": [
    "Using !!!ELSE IN FOR Loop!!!"
   ]
  },
  {
   "cell_type": "code",
   "execution_count": 24,
   "id": "ab660a5c",
   "metadata": {},
   "outputs": [
    {
     "name": "stdout",
     "output_type": "stream",
     "text": [
      "4.8\n",
      "Soham\n",
      "Now u r outside the loop\n"
     ]
    }
   ],
   "source": [
    "S = {\"Soham\",4.8,\"Sahil\"}\n",
    "i = 0\n",
    "for x in S:\n",
    "#we can use any letter insteae of x\n",
    "    print(x)\n",
    "    i = i + 1\n",
    "    if i == 3:\n",
    "        break\n",
    "    else:\n",
    "        pass\n",
    "else:\n",
    "    print(\"Elements in the dic are over\")\n",
    "print(\"Now u r outside the loop\")"
   ]
  },
  {
   "cell_type": "code",
   "execution_count": 28,
   "id": "c4c113a4",
   "metadata": {},
   "outputs": [
    {
     "name": "stdout",
     "output_type": "stream",
     "text": [
      "Soham :- 1\n",
      "Sahil :- 2\n"
     ]
    }
   ],
   "source": [
    "D = {\"Soham\":1,\"Sahil\":2}\n",
    "for x in A:\n",
    "    print(x,\":-\",D[x])"
   ]
  },
  {
   "cell_type": "markdown",
   "id": "c9ade666",
   "metadata": {},
   "source": [
    "Question on Sorting the list from min to max :-"
   ]
  },
  {
   "cell_type": "code",
   "execution_count": 35,
   "id": "9a9e2f88",
   "metadata": {},
   "outputs": [
    {
     "name": "stdout",
     "output_type": "stream",
     "text": [
      "[-3, 1, 4, 5, 25, 35, 451]\n"
     ]
    }
   ],
   "source": [
    "a = [1,-3,5,4,25,35,451]\n",
    "a.sort()\n",
    "print(a)"
   ]
  },
  {
   "cell_type": "markdown",
   "id": "a6713880",
   "metadata": {},
   "source": [
    "another way to solve the same question"
   ]
  },
  {
   "cell_type": "code",
   "execution_count": 11,
   "id": "165cfa9c",
   "metadata": {},
   "outputs": [
    {
     "name": "stdout",
     "output_type": "stream",
     "text": [
      "-3 1\n",
      "[-3, 1, 5, 4, 25, 35, 451]\n"
     ]
    }
   ],
   "source": [
    "L = [1,-3,5,4,25,35,451]\n",
    "m = L[0]\n",
    "idx = 0\n",
    "c = 0\n",
    "for i in L:\n",
    "    if i < m:\n",
    "        m = i\n",
    "        idx = c\n",
    "    c += 1\n",
    "temp = L[0]\n",
    "L[0] = m\n",
    "L[idx] = temp\n",
    "print(m,idx)\n",
    "print(L)"
   ]
  },
  {
   "cell_type": "markdown",
   "id": "767ce1c9",
   "metadata": {},
   "source": [
    "actual code begins here"
   ]
  },
  {
   "cell_type": "code",
   "execution_count": 20,
   "id": "05b0d3ef",
   "metadata": {},
   "outputs": [
    {
     "name": "stdout",
     "output_type": "stream",
     "text": [
      "[-8, 1, 3, 4, 5, 6, 8]\n"
     ]
    }
   ],
   "source": [
    "L = [1,3,8,4,5,-8,6]\n",
    "for j in range(len(L)):\n",
    "    m = L[j]\n",
    "    idx = j\n",
    "    c = j\n",
    "    for i in range(j,len(L)):\n",
    "        if L[i]<m:\n",
    "            m = L[i]\n",
    "            idx = c\n",
    "        c += 1\n",
    "    temp = L[j]\n",
    "    L[j] = m\n",
    "    L[idx] = temp\n",
    "print(L)\n",
    "    \n",
    "        "
   ]
  },
  {
   "cell_type": "markdown",
   "id": "3991d0c2",
   "metadata": {},
   "source": [
    "# :-                                 :-Defining Fuction's(def():) -:                                                  -:"
   ]
  },
  {
   "cell_type": "code",
   "execution_count": 30,
   "id": "f2815efd",
   "metadata": {},
   "outputs": [],
   "source": [
    "def mylines():\n",
    "    print(\"Love the way you lie\")\n",
    "    print(\"Lie the way you love\")"
   ]
  },
  {
   "cell_type": "code",
   "execution_count": 28,
   "id": "624181ce",
   "metadata": {},
   "outputs": [],
   "source": [
    "if 1 != 2:\n",
    "    mylines()"
   ]
  },
  {
   "cell_type": "markdown",
   "id": "98d83536",
   "metadata": {},
   "source": [
    "we can call this function at any time"
   ]
  },
  {
   "cell_type": "markdown",
   "id": "a986ab0d",
   "metadata": {},
   "source": [
    "docstring -"
   ]
  },
  {
   "cell_type": "code",
   "execution_count": 31,
   "id": "0b510810",
   "metadata": {},
   "outputs": [
    {
     "name": "stdout",
     "output_type": "stream",
     "text": [
      "I am coding\n",
      "i am eating\n"
     ]
    }
   ],
   "source": [
    "def soham():\n",
    "    \"\"\" This fuc is for just printing what i like  \"\"\"\n",
    "    print(\"I am coding\")\n",
    "    print(\"i am eating\")\n",
    "soham()"
   ]
  },
  {
   "cell_type": "markdown",
   "id": "d62af2a6",
   "metadata": {},
   "source": [
    "the below soham? is used to understand the docstring written it means what actually that soham fuc is doing there it is usefull for big codes"
   ]
  },
  {
   "cell_type": "code",
   "execution_count": 33,
   "id": "c163929a",
   "metadata": {},
   "outputs": [],
   "source": [
    "soham?"
   ]
  },
  {
   "cell_type": "markdown",
   "id": "c1f8c39e",
   "metadata": {},
   "source": [
    "Going BIT of advance in these function"
   ]
  },
  {
   "cell_type": "code",
   "execution_count": 34,
   "id": "266b8576",
   "metadata": {},
   "outputs": [],
   "source": [
    "def types(any):\n",
    "    if isinstance(any,str):\n",
    "        print(\"The function you have written there is String\")\n",
    "    else:\n",
    "        print(\"The function you have written is of type :\",type(any))"
   ]
  },
  {
   "cell_type": "code",
   "execution_count": 35,
   "id": "3cd3f29c",
   "metadata": {},
   "outputs": [
    {
     "name": "stdout",
     "output_type": "stream",
     "text": [
      "The function you have written there is String\n",
      "The function you have written is of type : <class 'int'>\n"
     ]
    }
   ],
   "source": [
    "types(\"soham\")\n",
    "types(17102003)"
   ]
  },
  {
   "cell_type": "markdown",
   "id": "6270b9ef",
   "metadata": {},
   "source": [
    "You can write any thing instead of \"any\" it's just for understanding"
   ]
  },
  {
   "cell_type": "markdown",
   "id": "9f1cd61a",
   "metadata": {},
   "source": [
    "~using more than one argument in the function of difining"
   ]
  },
  {
   "cell_type": "code",
   "execution_count": 47,
   "id": "4c5e6627",
   "metadata": {},
   "outputs": [
    {
     "name": "stdout",
     "output_type": "stream",
     "text": [
      "6561\n"
     ]
    }
   ],
   "source": [
    "def Myname(a,b):\n",
    "    c = a**b\n",
    "    print(c)\n",
    "Myname(3,8)"
   ]
  },
  {
   "cell_type": "code",
   "execution_count": 48,
   "id": "403ecfdf",
   "metadata": {},
   "outputs": [
    {
     "name": "stdout",
     "output_type": "stream",
     "text": [
      "134217728\n"
     ]
    }
   ],
   "source": [
    "Myname(8,9)"
   ]
  },
  {
   "cell_type": "code",
   "execution_count": 5,
   "id": "fea504b7",
   "metadata": {},
   "outputs": [],
   "source": [
    "def addition(a,b,c):\n",
    "    print(\"We are excepting THREE argument's\")\n",
    "    if isinstance(a,(int,float)) and isinstance(b,(int,float)) and isinstance(c,(int,float)):\n",
    "        print(\"You are ready to proccede\")\n",
    "        d = (a*b+c)\n",
    "        print(\"The output you get is :\",d)\n",
    "    else:\n",
    "        print(\"You dont match the criteria of the input\")\n",
    "        print(\"The criteria is just to fill integer or decimal numbers\")"
   ]
  },
  {
   "cell_type": "code",
   "execution_count": 6,
   "id": "82bf7e01",
   "metadata": {},
   "outputs": [
    {
     "name": "stdout",
     "output_type": "stream",
     "text": [
      "We are excepting THREE argument's\n",
      "You are ready to proccede\n",
      "The output you get is : 17\n"
     ]
    }
   ],
   "source": [
    "addition(3,4,5)"
   ]
  },
  {
   "cell_type": "code",
   "execution_count": 7,
   "id": "3e9a4ff9",
   "metadata": {},
   "outputs": [
    {
     "name": "stdout",
     "output_type": "stream",
     "text": [
      "We are excepting THREE argument's\n",
      "You dont match the criteria of the input\n",
      "The criteria is just to fill integer or decimal numbers\n"
     ]
    }
   ],
   "source": [
    "addition(3,\"s\",6)"
   ]
  },
  {
   "cell_type": "code",
   "execution_count": 8,
   "id": "cd3016ce",
   "metadata": {},
   "outputs": [],
   "source": [
    "def sahil(a,b,c):\n",
    "    return a**b*c"
   ]
  },
  {
   "cell_type": "code",
   "execution_count": 9,
   "id": "21215ccf",
   "metadata": {},
   "outputs": [
    {
     "data": {
      "text/plain": [
       "5832"
      ]
     },
     "execution_count": 9,
     "metadata": {},
     "output_type": "execute_result"
    }
   ],
   "source": [
    "sahil(3,6,8)"
   ]
  },
  {
   "cell_type": "markdown",
   "id": "b05cedc9",
   "metadata": {},
   "source": [
    "# Calling some different type of function's"
   ]
  },
  {
   "cell_type": "code",
   "execution_count": 10,
   "id": "6f2c46d8",
   "metadata": {},
   "outputs": [],
   "source": [
    "def berij(*adding):\n",
    "    s = 0\n",
    "    for i in range(len(adding)):\n",
    "        s += adding[i]\n",
    "    return s"
   ]
  },
  {
   "cell_type": "markdown",
   "id": "dddd64f8",
   "metadata": {},
   "source": [
    "by this method we can add or multipy as many veriables as we want "
   ]
  },
  {
   "cell_type": "code",
   "execution_count": 11,
   "id": "033c89aa",
   "metadata": {},
   "outputs": [
    {
     "data": {
      "text/plain": [
       "31"
      ]
     },
     "execution_count": 11,
     "metadata": {},
     "output_type": "execute_result"
    }
   ],
   "source": [
    "berij(3,4,8,9,7)"
   ]
  },
  {
   "cell_type": "code",
   "execution_count": 12,
   "id": "c41d0920",
   "metadata": {},
   "outputs": [
    {
     "data": {
      "text/plain": [
       "4"
      ]
     },
     "execution_count": 12,
     "metadata": {},
     "output_type": "execute_result"
    }
   ],
   "source": [
    "berij(3,1)"
   ]
  },
  {
   "cell_type": "code",
   "execution_count": 17,
   "id": "33c7523d",
   "metadata": {},
   "outputs": [],
   "source": [
    "def multis(*mult):\n",
    "    s = 1\n",
    "    for i in range(len(mult)):\n",
    "        s *= mult[i]\n",
    "    return s"
   ]
  },
  {
   "cell_type": "code",
   "execution_count": 18,
   "id": "80978190",
   "metadata": {},
   "outputs": [
    {
     "data": {
      "text/plain": [
       "6"
      ]
     },
     "execution_count": 18,
     "metadata": {},
     "output_type": "execute_result"
    }
   ],
   "source": [
    "multis(3,2)"
   ]
  },
  {
   "cell_type": "code",
   "execution_count": 19,
   "id": "803ff41d",
   "metadata": {},
   "outputs": [
    {
     "data": {
      "text/plain": [
       "4200"
      ]
     },
     "execution_count": 19,
     "metadata": {},
     "output_type": "execute_result"
    }
   ],
   "source": [
    "multis(3,5,7,8,5)"
   ]
  },
  {
   "cell_type": "markdown",
   "id": "67fcaa72",
   "metadata": {},
   "source": [
    "funtion's for achieving proper order for it"
   ]
  },
  {
   "cell_type": "code",
   "execution_count": 21,
   "id": "ee6c854a",
   "metadata": {},
   "outputs": [],
   "source": [
    "def allveriablenamesandvalues(**args):\n",
    "    for i in args:\n",
    "        print(\"Veriable name is :\",i,\"And value is :\",args[i])\n",
    "        # above print and below print are same\n",
    "        print(i,args[i])"
   ]
  },
  {
   "cell_type": "code",
   "execution_count": 22,
   "id": "586a7f76",
   "metadata": {},
   "outputs": [
    {
     "name": "stdout",
     "output_type": "stream",
     "text": [
      "Veriable name is : a And value is : 2\n",
      "a 2\n",
      "Veriable name is : b And value is : soham\n",
      "b soham\n",
      "Veriable name is : c And value is : 8\n",
      "c 8\n",
      "Veriable name is : d And value is : 5.3\n",
      "d 5.3\n"
     ]
    }
   ],
   "source": [
    "allveriablenamesandvalues(a=2,b=\"soham\",c=8,d=5.3)"
   ]
  },
  {
   "cell_type": "markdown",
   "id": "977ebd8f",
   "metadata": {},
   "source": [
    "if value is not assigned to the def function then it should have some value"
   ]
  },
  {
   "cell_type": "code",
   "execution_count": 26,
   "id": "ef182994",
   "metadata": {},
   "outputs": [],
   "source": [
    "def sandy(s=\"FuckYou\"):\n",
    "    print(s)"
   ]
  },
  {
   "cell_type": "code",
   "execution_count": 27,
   "id": "3f6e7d9c",
   "metadata": {},
   "outputs": [
    {
     "name": "stdout",
     "output_type": "stream",
     "text": [
      "FuckYou\n"
     ]
    }
   ],
   "source": [
    "sandy()"
   ]
  },
  {
   "cell_type": "code",
   "execution_count": 28,
   "id": "b60dcbf7",
   "metadata": {},
   "outputs": [
    {
     "name": "stdout",
     "output_type": "stream",
     "text": [
      "1\n"
     ]
    }
   ],
   "source": [
    "sandy(1)"
   ]
  },
  {
   "cell_type": "markdown",
   "id": "3b80910b",
   "metadata": {},
   "source": [
    "# Importing function or file as a \"Built in function\""
   ]
  },
  {
   "cell_type": "code",
   "execution_count": 9,
   "id": "24625889",
   "metadata": {},
   "outputs": [],
   "source": [
    "import sys\n",
    "sys.path.append('C:/ABC/')"
   ]
  },
  {
   "cell_type": "code",
   "execution_count": 10,
   "id": "8d3ee6ab",
   "metadata": {},
   "outputs": [],
   "source": [
    "import Tobeused as myfunc\n",
    "myfunc.addings??"
   ]
  },
  {
   "cell_type": "code",
   "execution_count": 12,
   "id": "2a212c03",
   "metadata": {},
   "outputs": [
    {
     "data": {
      "text/plain": [
       "27"
      ]
     },
     "execution_count": 12,
     "metadata": {},
     "output_type": "execute_result"
    }
   ],
   "source": [
    "myfunc.addings(3,5,6,8,5)"
   ]
  },
  {
   "cell_type": "code",
   "execution_count": 13,
   "id": "3325918c",
   "metadata": {},
   "outputs": [
    {
     "data": {
      "text/plain": [
       "True"
      ]
     },
     "execution_count": 13,
     "metadata": {},
     "output_type": "execute_result"
    }
   ],
   "source": [
    "myfunc.check(5.2)"
   ]
  },
  {
   "cell_type": "code",
   "execution_count": 16,
   "id": "8ac6bc3f",
   "metadata": {},
   "outputs": [
    {
     "data": {
      "text/plain": [
       "'Soham'"
      ]
     },
     "execution_count": 16,
     "metadata": {},
     "output_type": "execute_result"
    }
   ],
   "source": [
    "myfunc.MyName"
   ]
  },
  {
   "cell_type": "markdown",
   "id": "7525cc10",
   "metadata": {},
   "source": [
    "# #Sorting LIst With using def function :-** (Starts from Here)"
   ]
  },
  {
   "cell_type": "markdown",
   "id": "da6928d0",
   "metadata": {},
   "source": [
    "# @program for swapping values\\"
   ]
  },
  {
   "cell_type": "code",
   "execution_count": 15,
   "id": "9c7c1557",
   "metadata": {},
   "outputs": [
    {
     "name": "stdout",
     "output_type": "stream",
     "text": [
      "[2, 4, 8, 2]\n"
     ]
    }
   ],
   "source": [
    "'''def swapval(L,idx1,idx2):\n",
    "    temp = L[idx1]\n",
    "    L[idx1] = L[idx2]\n",
    "    L[idx2] = temp\n",
    "    return L\n",
    "L = [2,8,4,2]\n",
    "print(swapval(L,1,2))\n",
    "'''"
   ]
  },
  {
   "cell_type": "markdown",
   "id": "3336fb80",
   "metadata": {},
   "source": [
    "in above code values at position 1 i.e 8 and 2 i.e 4 will be interchanged"
   ]
  },
  {
   "cell_type": "markdown",
   "id": "8b2c36c6",
   "metadata": {},
   "source": []
  },
  {
   "cell_type": "code",
   "execution_count": 29,
   "id": "abec5cba",
   "metadata": {},
   "outputs": [],
   "source": [
    "'''def findmin(L,startindx):\n",
    "    m = L[startindx]\n",
    "    idx = startindx\n",
    "    i = 0\n",
    "    for i in range(startindx,len(L)):\n",
    "        x = L[i]\n",
    "        if x<m:\n",
    "            m = x\n",
    "            idx = i\n",
    "        else:\n",
    "            pass\n",
    "        \n",
    "    return m,idx\n",
    "'''"
   ]
  },
  {
   "cell_type": "code",
   "execution_count": 7,
   "id": "37853629",
   "metadata": {},
   "outputs": [
    {
     "name": "stdout",
     "output_type": "stream",
     "text": [
      "-2 3\n"
     ]
    }
   ],
   "source": [
    "a,b = findmin([1,5,4,-2,4,8])\n",
    "print(a,b)"
   ]
  },
  {
   "cell_type": "code",
   "execution_count": 30,
   "id": "b096e30d",
   "metadata": {},
   "outputs": [],
   "source": [
    "'''def checksss(L):\n",
    "    for x in L:\n",
    "        if not(isinstance(x,(int,float))):\n",
    "            return False\n",
    "        else:\n",
    "            return True\n",
    "'''"
   ]
  },
  {
   "cell_type": "code",
   "execution_count": 31,
   "id": "8be2fa63",
   "metadata": {},
   "outputs": [],
   "source": [
    "\"\"\"def sortlist(L):\n",
    "    if not(check(L)):\n",
    "        print(\"Error\")\n",
    "        return\n",
    "    else:\n",
    "        c = 0\n",
    "        for x in L:\n",
    "            m,idx = findmin(L,c)\n",
    "            L = swapval(L,c,idx)\n",
    "            c+=1\n",
    "            return L\n",
    "\"\"\"\n",
    "    "
   ]
  },
  {
   "cell_type": "code",
   "execution_count": 32,
   "id": "ab32ba21",
   "metadata": {},
   "outputs": [
    {
     "name": "stdout",
     "output_type": "stream",
     "text": [
      "[1, 5, 9, 4, 6, 2]\n"
     ]
    }
   ],
   "source": [
    "L2 = sortlist([1,5,9,4,6,2])\n",
    "print(L2)"
   ]
  },
  {
   "cell_type": "code",
   "execution_count": 33,
   "id": "1f8cf4a3",
   "metadata": {},
   "outputs": [],
   "source": [
    "def findmin(L,startindx):\n",
    "    m = L[startindx]\n",
    "    idx = startindx\n",
    "    i = 0\n",
    "    for i in range(startindx,len(L)):\n",
    "        x = L[i]\n",
    "        if x<m:\n",
    "            m = x\n",
    "            idx = i\n",
    "        else:\n",
    "            pass\n",
    "        \n",
    "    return m,idx\n",
    "\n",
    "def swapval(L,idx1,idx2):\n",
    "    temp = L[idx1]\n",
    "    L[idx1] = L[idx2]\n",
    "    L[idx2] = temp\n",
    "    return L\n",
    "\n",
    "def checksss(L):\n",
    "    for x in L:\n",
    "        if not(isinstance(x,(int,float))):\n",
    "            return False\n",
    "        else:\n",
    "            return True\n",
    "        \n",
    "def sortlist(L):\n",
    "    if not(check(L)):\n",
    "        print(\"Error\")\n",
    "        return\n",
    "    else:\n",
    "        c = 0\n",
    "        for x in L:\n",
    "            m,idx = findmin(L,c)\n",
    "            L = swapval(L,c,idx)\n",
    "            c+=1\n",
    "            return L"
   ]
  },
  {
   "cell_type": "code",
   "execution_count": 34,
   "id": "096619dc",
   "metadata": {},
   "outputs": [
    {
     "name": "stdout",
     "output_type": "stream",
     "text": [
      "[0, 8, 6, 1, 5, 40]\n"
     ]
    }
   ],
   "source": [
    "L2 = sortlist([1,8,6,0,5,40])\n",
    "print(L2)"
   ]
  },
  {
   "cell_type": "markdown",
   "id": "f8e88124",
   "metadata": {},
   "source": [
    "# STRINGS Begin's Here"
   ]
  },
  {
   "cell_type": "code",
   "execution_count": 35,
   "id": "5d196613",
   "metadata": {},
   "outputs": [
    {
     "name": "stdout",
     "output_type": "stream",
     "text": [
      "Soham Nimbalkar\n"
     ]
    }
   ],
   "source": [
    "a = \"Soham\"\n",
    "b = \"Nimbalkar\"\n",
    "c = a + \" \" + b\n",
    "print(c)"
   ]
  },
  {
   "cell_type": "code",
   "execution_count": 4,
   "id": "5a53d480",
   "metadata": {},
   "outputs": [
    {
     "name": "stdout",
     "output_type": "stream",
     "text": [
      "t is \n",
      "43\n",
      "5\n"
     ]
    }
   ],
   "source": [
    "s = \"What is your name baby  because u r so cute\"\n",
    "print(s[3:8])\n",
    "print(len(s))\n",
    "print(len(s[3:8]))"
   ]
  },
  {
   "cell_type": "code",
   "execution_count": 25,
   "id": "259c9937",
   "metadata": {},
   "outputs": [
    {
     "name": "stdout",
     "output_type": "stream",
     "text": [
      "Lots of spaces; in ;the Begining ;and ; THE enD;\n"
     ]
    }
   ],
   "source": [
    "a = \"    Lots of spaces; in ;the Begining ;and ; THE enD;         \"\n",
    "print(a.strip())\n",
    "#this will remove spaces at begining and the end"
   ]
  },
  {
   "cell_type": "code",
   "execution_count": 26,
   "id": "37b7ff28",
   "metadata": {},
   "outputs": [
    {
     "name": "stdout",
     "output_type": "stream",
     "text": [
      "    lots of spaces; in ;the begining ;and ; the end;         \n",
      "    LOTS OF SPACES; IN ;THE BEGINING ;AND ; THE END;         \n"
     ]
    }
   ],
   "source": [
    "print(a.lower())\n",
    "print(a.upper())"
   ]
  },
  {
   "cell_type": "code",
   "execution_count": 27,
   "id": "8df8af3b",
   "metadata": {},
   "outputs": [
    {
     "name": "stdout",
     "output_type": "stream",
     "text": [
      "    Lots of spaces: in :the Begining :and : THE enD:         \n"
     ]
    }
   ],
   "source": [
    "print(a.replace(\";\", \":\"))"
   ]
  },
  {
   "cell_type": "code",
   "execution_count": 33,
   "id": "b952edcf",
   "metadata": {},
   "outputs": [
    {
     "name": "stdout",
     "output_type": "stream",
     "text": [
      "['    Lots of spaces', ' in ', 'the Begining ', 'and ', ' THE enD', '         ']\n",
      "['Lots', 'of', 'spaces;', 'in', ';the', 'Begining', ';and', ';', 'THE', 'enD;']\n"
     ]
    }
   ],
   "source": [
    "print(a.split(\";\"))\n",
    "\n",
    "print(a.split())"
   ]
  },
  {
   "cell_type": "code",
   "execution_count": 29,
   "id": "fbbedf4b",
   "metadata": {},
   "outputs": [],
   "source": [
    "#For accesing more stuff like this upper,split,strip etc. press a.(dot) and Tab"
   ]
  },
  {
   "cell_type": "code",
   "execution_count": 52,
   "id": "2093218d",
   "metadata": {},
   "outputs": [
    {
     "name": "stdout",
     "output_type": "stream",
     "text": [
      "we are learning \"Python\" here\n"
     ]
    }
   ],
   "source": [
    "a = \"we are learning \\\"Python\\\" here\"\n",
    "print(a)"
   ]
  },
  {
   "cell_type": "code",
   "execution_count": 60,
   "id": "2b4b645a",
   "metadata": {},
   "outputs": [
    {
     "name": "stdout",
     "output_type": "stream",
     "text": [
      "soham \n",
      " is santosh nimbalkars \t son\n",
      "soham \\n is santosh nimbalkars \\t son\n"
     ]
    }
   ],
   "source": [
    "#\\n:-new line\n",
    "#\\t:-tab(space)\n",
    "#\\r:-raw string (if any thing there in string like \\t or \\n this will not work) \n",
    "#ex\n",
    "print(\"soham \\n is santosh nimbalkars \\t son\")\n",
    "print(r\"soham \\n is santosh nimbalkars \\t son\")\n",
    "#.\n",
    "#.\n",
    "#.\n"
   ]
  },
  {
   "cell_type": "markdown",
   "id": "1e1d1785",
   "metadata": {},
   "source": [
    "# DATA Structure's :-"
   ]
  },
  {
   "cell_type": "code",
   "execution_count": 3,
   "id": "5a2adc80",
   "metadata": {},
   "outputs": [
    {
     "name": "stdout",
     "output_type": "stream",
     "text": [
      "[1, 5, 2, 5, 5, 4, 7, 8, 6]\n"
     ]
    }
   ],
   "source": [
    "f = [1,5,2,5]\n",
    "f = f + [5,4,7,8,6]\n",
    "print(f)"
   ]
  },
  {
   "cell_type": "markdown",
   "id": "6911e7ef",
   "metadata": {},
   "source": [
    "we cannot add two dictionaries but we can update them"
   ]
  },
  {
   "cell_type": "code",
   "execution_count": 5,
   "id": "4baa2676",
   "metadata": {},
   "outputs": [
    {
     "name": "stdout",
     "output_type": "stream",
     "text": [
      "['soham', 'sahil', 8, 5, 4, 7, 5]\n"
     ]
    }
   ],
   "source": [
    "L = [\"soham\",\"sahil\",8,5,4,7,]\n",
    "L.append(5)\n",
    "print(L)"
   ]
  },
  {
   "cell_type": "code",
   "execution_count": 2,
   "id": "8a6a34b2",
   "metadata": {},
   "outputs": [],
   "source": [
    "l = [2,\"kjdjfj\",35,\"kdj\"]"
   ]
  },
  {
   "cell_type": "code",
   "execution_count": 4,
   "id": "b0e6f705",
   "metadata": {},
   "outputs": [],
   "source": [
    "s = (1,6.5,\"soham\")"
   ]
  },
  {
   "cell_type": "code",
   "execution_count": 5,
   "id": "9e399f06",
   "metadata": {},
   "outputs": [],
   "source": [
    "D = {\"SOham\":1,\"sahil\":2,\"hsdf\":3}"
   ]
  },
  {
   "cell_type": "code",
   "execution_count": 6,
   "id": "54c28494",
   "metadata": {},
   "outputs": [],
   "source": [
    "D2 = {\"A\":l,\"B\":s,\"C\":D}"
   ]
  },
  {
   "cell_type": "code",
   "execution_count": 8,
   "id": "92ab5de4",
   "metadata": {},
   "outputs": [
    {
     "name": "stdout",
     "output_type": "stream",
     "text": [
      "[2, 'kjdjfj', 35, 'kdj']\n"
     ]
    }
   ],
   "source": [
    "print(D2['A'])"
   ]
  },
  {
   "cell_type": "code",
   "execution_count": 9,
   "id": "2aab66b3",
   "metadata": {},
   "outputs": [
    {
     "name": "stdout",
     "output_type": "stream",
     "text": [
      "35\n"
     ]
    }
   ],
   "source": [
    "print(D2['A'][2])"
   ]
  },
  {
   "cell_type": "code",
   "execution_count": 12,
   "id": "b7fc5fd3",
   "metadata": {},
   "outputs": [
    {
     "name": "stdout",
     "output_type": "stream",
     "text": [
      "[0, 1, 4, 9, 16, 25, 36, 49, 64, 81, 100]\n"
     ]
    }
   ],
   "source": [
    "M = [x**2 for x in range(11)]\n",
    "print(M)"
   ]
  },
  {
   "cell_type": "code",
   "execution_count": 13,
   "id": "e1d4645d",
   "metadata": {},
   "outputs": [
    {
     "data": {
      "text/plain": [
       "'Take a data from the teacher and enter their marks there subject and so much according to freecodecamp video do \\nas questio in it at 9:20:47 https://www.youtube.com/watch?v=LHBE6Q9XlzI&t=32846s '"
      ]
     },
     "execution_count": 13,
     "metadata": {},
     "output_type": "execute_result"
    }
   ],
   "source": [
    " \"\"\"Take a data from the teacher and enter their marks there subject and so much according to freecodecamp video do \n",
    " as questio in it at 9:20:47 https://www.youtube.com/watch?v=LHBE6Q9XlzI&t=32846s \"\"\""
   ]
  },
  {
   "cell_type": "code",
   "execution_count": 6,
   "id": "af8b4f6a",
   "metadata": {},
   "outputs": [],
   "source": [
    "def dataentry():\n",
    "    D = {}\n",
    "    while True:\n",
    "        StudentId = input(\"Enter The Student ID : \" )\n",
    "        StudentMarks = input(\"Enter The student Marks seperated by comma's : \" )\n",
    "        MoreStudents = input(\"If no more student's Enter 'no' to quit : \" )\n",
    "        if StudentId in D:\n",
    "            print(StudentId, \" Info OF These Student is already Entered \")\n",
    "        else:\n",
    "            D[StudentId] = StudentMarks.split(\",\")\n",
    "        if MoreStudents.lower() == \"no\":\n",
    "            return D"
   ]
  },
  {
   "cell_type": "code",
   "execution_count": 7,
   "id": "b2114c81",
   "metadata": {},
   "outputs": [
    {
     "name": "stdout",
     "output_type": "stream",
     "text": [
      "Enter The Student ID : Soham\n",
      "Enter The student Marks seperated by comma's : 89,98,100,89\n",
      "If no more student's Enter 'no' to quit : Sahil\n",
      "Enter The Student ID : Sahil\n",
      "Enter The student Marks seperated by comma's : 89,87,100,89\n",
      "If no more student's Enter 'no' to quit : no\n"
     ]
    }
   ],
   "source": [
    "Dataset = dataentry()"
   ]
  },
  {
   "cell_type": "code",
   "execution_count": 8,
   "id": "22774d70",
   "metadata": {},
   "outputs": [
    {
     "data": {
      "text/plain": [
       "{'Soham': ['89', '98', '100', '89'], 'Sahil': ['89', '87', '100', '89']}"
      ]
     },
     "execution_count": 8,
     "metadata": {},
     "output_type": "execute_result"
    }
   ],
   "source": [
    "Dataset"
   ]
  },
  {
   "cell_type": "code",
   "execution_count": 9,
   "id": "59f4ba89",
   "metadata": {},
   "outputs": [],
   "source": [
    "def averagemarks(D):\n",
    "    D2 = {}\n",
    "    for x in D:\n",
    "        L = D[x]\n",
    "        s = 0\n",
    "        for marks in L:\n",
    "            s += int(marks)\n",
    "        D2[x] = s/len(L)\n",
    "    return D2"
   ]
  },
  {
   "cell_type": "code",
   "execution_count": 10,
   "id": "b0651043",
   "metadata": {},
   "outputs": [],
   "source": [
    "avgM = averagemarks(Dataset)"
   ]
  },
  {
   "cell_type": "code",
   "execution_count": 11,
   "id": "1293cc76",
   "metadata": {},
   "outputs": [
    {
     "name": "stdout",
     "output_type": "stream",
     "text": [
      "Student Soham Got average marks of  94.0\n",
      "Student Sahil Got average marks of  91.25\n"
     ]
    }
   ],
   "source": [
    "for x in avgM:\n",
    "    print(\"Student\", x , \"Got average marks of \", avgM[x])"
   ]
  },
  {
   "cell_type": "markdown",
   "id": "a9b03e98",
   "metadata": {},
   "source": [
    "# :-                                       @        NUMPY         @                                        -:"
   ]
  },
  {
   "cell_type": "code",
   "execution_count": 18,
   "id": "054ebe60",
   "metadata": {},
   "outputs": [
    {
     "name": "stdout",
     "output_type": "stream",
     "text": [
      "[[1 2 3]\n",
      " [1 2 3]\n",
      " [1 2 3]]\n",
      "[1 2 3]\n",
      "2\n",
      "1\n",
      "2\n"
     ]
    }
   ],
   "source": [
    "import numpy as np\n",
    "b = np.array((1,2,3))\n",
    "a = np.array([[1,2,3],[1,2,3],[1,2,3]])\n",
    "print(a)\n",
    "print(b)\n",
    "print(a.ndim)\n",
    "print(b.ndim)\n",
    "# ndim gives the dimensions of the array\n",
    "print(a[1,1])# this how the elements in the list is accesed"
   ]
  },
  {
   "cell_type": "markdown",
   "id": "9ae8c12a",
   "metadata": {},
   "source": [
    "#three dimensional array"
   ]
  },
  {
   "cell_type": "code",
   "execution_count": 24,
   "id": "0f2869c8",
   "metadata": {},
   "outputs": [
    {
     "name": "stdout",
     "output_type": "stream",
     "text": [
      "[[[1 2 3]\n",
      "  [1 2 3]]\n",
      "\n",
      " [[1 2 3]\n",
      "  [1 2 3]]]\n",
      "3\n",
      "(2, 2, 3)\n",
      "12\n",
      "48\n"
     ]
    }
   ],
   "source": [
    "c = np.array([[[1,2,3],[1,2,3]],[[1,2,3],[1,2,3]]])\n",
    "print(c)\n",
    "print(c[1,0,2])\n",
    "print(c.shape)\n",
    "print(c.size)\n",
    "print(c.nbytes)\n",
    "# for accesing more properties just do print(c.\"and hit the tab button\")"
   ]
  },
  {
   "cell_type": "code",
   "execution_count": 1,
   "id": "552040e1",
   "metadata": {},
   "outputs": [],
   "source": [
    "import numpy as np"
   ]
  },
  {
   "cell_type": "code",
   "execution_count": 4,
   "id": "81ac2ffc",
   "metadata": {},
   "outputs": [
    {
     "name": "stdout",
     "output_type": "stream",
     "text": [
      "[ 0  1  2  3  4  5  6  7  8  9 10 11 12 13 14 15 16 17 18 19 20 21 22 23\n",
      " 24 25 26 27 28 29 30 31 32 33 34 35 36 37 38 39 40 41 42 43 44 45 46 47\n",
      " 48 49]\n",
      "[10 12 14 16 18 20]\n"
     ]
    }
   ],
   "source": [
    "aa = np.arange(50)\n",
    "b = np.arange(10,21,2)\n",
    "print(aa)\n",
    "print(b)"
   ]
  },
  {
   "cell_type": "code",
   "execution_count": 7,
   "id": "49229203",
   "metadata": {},
   "outputs": [
    {
     "name": "stdout",
     "output_type": "stream",
     "text": [
      "[14 13 17 18 12 16 11 15 19 10]\n"
     ]
    }
   ],
   "source": [
    "c = np.random.permutation(np.arange(10,20))\n",
    "print(c)"
   ]
  },
  {
   "cell_type": "code",
   "execution_count": 5,
   "id": "3db5b067",
   "metadata": {},
   "outputs": [
    {
     "name": "stdout",
     "output_type": "stream",
     "text": [
      "[0.78890086 0.96188736 0.04113419 0.81235952 0.80174672 0.496283\n",
      " 0.94754468 0.71909908 0.94823086 0.59194085 0.34118664 0.10343687\n",
      " 0.89871325 0.50540903 0.85821973 0.52606098 0.08543835 0.2620526\n",
      " 0.88571185 0.54569752 0.99405684 0.16223548 0.73128528 0.48121383\n",
      " 0.95628477 0.82319454 0.9884044  0.71920671 0.67760044 0.26251913\n",
      " 0.65865806 0.86765442 0.59553282 0.03730205 0.08133044 0.07352983\n",
      " 0.83454032 0.17503221 0.20666121 0.21173541 0.52942865 0.74478566\n",
      " 0.05285466 0.00226885 0.51398443 0.43099776 0.94966191 0.42374475\n",
      " 0.88783921 0.86278182]\n"
     ]
    },
    {
     "data": {
      "text/plain": [
       "(array([7., 3., 4., 1., 4., 7., 2., 5., 9., 8.]),\n",
       " array([0.00226885, 0.10144765, 0.20062645, 0.29980525, 0.39898405,\n",
       "        0.49816285, 0.59734165, 0.69652045, 0.79569925, 0.89487804,\n",
       "        0.99405684]),\n",
       " <BarContainer object of 10 artists>)"
      ]
     },
     "execution_count": 5,
     "metadata": {},
     "output_type": "execute_result"
    },
    {
     "data": {
      "image/png": "[encoded data removed]",
      "text/plain": [
       "<Figure size 432x288 with 1 Axes>"
      ]
     },
     "metadata": {
      "needs_background": "light"
     },
     "output_type": "display_data"
    }
   ],
   "source": [
    "import numpy as np\n",
    "a = np.random.rand(50)\n",
    "print(a)\n",
    "import matplotlib.pyplot as plt\n",
    "plt.hist(a)\n",
    "# We will see matplotlib in detailed further"
   ]
  },
  {
   "cell_type": "code",
   "execution_count": 3,
   "id": "6931a014",
   "metadata": {},
   "outputs": [
    {
     "name": "stdout",
     "output_type": "stream",
     "text": [
      "[0.59301147 0.07100962 0.92232637 0.25748628 0.89472486 0.82019723\n",
      " 0.17191005 0.26187044 0.36020091 0.12647957 0.22899139 0.66962248\n",
      " 0.08662527 0.90930013 0.60619106 0.9374314  0.81612014 0.53572634\n",
      " 0.77894877 0.30161611 0.47846409 0.73786707 0.16468498 0.05757355\n",
      " 0.35231774 0.66293365 0.82289502 0.23225169 0.77971579 0.60284648\n",
      " 0.50252134 0.97617262 0.33805167 0.45722746 0.10065531 0.76085783\n",
      " 0.76374889 0.33617162 0.34409213 0.79003871 0.34345958 0.81207265\n",
      " 0.21622259 0.51637812 0.16820172 0.27889112 0.10885604 0.11339731\n",
      " 0.82983309 0.22489082]\n"
     ]
    },
    {
     "data": {
      "text/plain": [
       "(array([1., 1., 0., 1., 1., 1., 1., 1., 0., 0., 0., 1., 2., 0., 0., 0., 0.,\n",
       "        1., 2., 1., 0., 1., 1., 0., 1., 0., 1., 0., 0., 0., 2., 2., 2., 0.,\n",
       "        0., 0., 0., 0., 0., 0., 0., 0., 0., 1., 0., 1., 0., 0., 1., 1., 0.,\n",
       "        0., 1., 0., 0., 0., 0., 0., 1., 2., 0., 0., 0., 0., 0., 1., 1., 0.,\n",
       "        0., 0., 0., 0., 0., 0., 1., 0., 2., 0., 2., 1., 0., 0., 2., 2., 1.,\n",
       "        0., 0., 0., 0., 0., 0., 1., 1., 0., 1., 1., 0., 0., 0., 1.]),\n",
       " array([0.05757355, 0.06675954, 0.07594553, 0.08513152, 0.09431751,\n",
       "        0.1035035 , 0.11268949, 0.12187549, 0.13106148, 0.14024747,\n",
       "        0.14943346, 0.15861945, 0.16780544, 0.17699143, 0.18617742,\n",
       "        0.19536341, 0.2045494 , 0.21373539, 0.22292138, 0.23210737,\n",
       "        0.24129336, 0.25047935, 0.25966535, 0.26885134, 0.27803733,\n",
       "        0.28722332, 0.29640931, 0.3055953 , 0.31478129, 0.32396728,\n",
       "        0.33315327, 0.34233926, 0.35152525, 0.36071124, 0.36989723,\n",
       "        0.37908322, 0.38826921, 0.39745521, 0.4066412 , 0.41582719,\n",
       "        0.42501318, 0.43419917, 0.44338516, 0.45257115, 0.46175714,\n",
       "        0.47094313, 0.48012912, 0.48931511, 0.4985011 , 0.50768709,\n",
       "        0.51687308, 0.52605907, 0.53524507, 0.54443106, 0.55361705,\n",
       "        0.56280304, 0.57198903, 0.58117502, 0.59036101, 0.599547  ,\n",
       "        0.60873299, 0.61791898, 0.62710497, 0.63629096, 0.64547695,\n",
       "        0.65466294, 0.66384894, 0.67303493, 0.68222092, 0.69140691,\n",
       "        0.7005929 , 0.70977889, 0.71896488, 0.72815087, 0.73733686,\n",
       "        0.74652285, 0.75570884, 0.76489483, 0.77408082, 0.78326681,\n",
       "        0.7924528 , 0.8016388 , 0.81082479, 0.82001078, 0.82919677,\n",
       "        0.83838276, 0.84756875, 0.85675474, 0.86594073, 0.87512672,\n",
       "        0.88431271, 0.8934987 , 0.90268469, 0.91187068, 0.92105667,\n",
       "        0.93024266, 0.93942866, 0.94861465, 0.95780064, 0.96698663,\n",
       "        0.97617262]),\n",
       " <BarContainer object of 100 artists>)"
      ]
     },
     "execution_count": 3,
     "metadata": {},
     "output_type": "execute_result"
    },
    {
     "data": {
      "image/png": "[encoded data removed]",
      "text/plain": [
       "<Figure size 432x288 with 1 Axes>"
      ]
     },
     "metadata": {
      "needs_background": "light"
     },
     "output_type": "display_data"
    }
   ],
   "source": [
    "import numpy as np\n",
    "a = np.random.rand(50)\n",
    "print(a)\n",
    "import matplotlib.pyplot as plt\n",
    "plt.hist(a,bins=100)"
   ]
  },
  {
   "cell_type": "code",
   "execution_count": 5,
   "id": "f30cc181",
   "metadata": {},
   "outputs": [
    {
     "name": "stdout",
     "output_type": "stream",
     "text": [
      "[[0.50344408 0.36765187 0.22091767]\n",
      " [0.83578832 0.53845354 0.82528714]]\n"
     ]
    }
   ],
   "source": [
    "import numpy as np \n",
    "a = np.random.rand(2,3)\n",
    "print(a)"
   ]
  },
  {
   "cell_type": "code",
   "execution_count": 7,
   "id": "2ffeecc6",
   "metadata": {},
   "outputs": [
    {
     "name": "stdout",
     "output_type": "stream",
     "text": [
      "[[[0.36781404 0.2349835  0.32881307 0.74078352]\n",
      "  [0.0024589  0.22236343 0.6462655  0.44293491]\n",
      "  [0.49057564 0.40201425 0.84810452 0.26373054]]\n",
      "\n",
      " [[0.55548566 0.88939745 0.26575803 0.43329125]\n",
      "  [0.66344601 0.11604767 0.46845689 0.42519175]\n",
      "  [0.5259221  0.60407326 0.71168296 0.3813851 ]]]\n"
     ]
    }
   ],
   "source": [
    "b = np.random.rand(2,3,4)\n",
    "print(b)"
   ]
  },
  {
   "cell_type": "code",
   "execution_count": 9,
   "id": "dd01bf5c",
   "metadata": {},
   "outputs": [
    {
     "name": "stdout",
     "output_type": "stream",
     "text": [
      "[[[[0.09854729 0.05077108 0.01201802 0.24929214 0.39220516]\n",
      "   [0.00482942 0.12114943 0.51498956 0.20859361 0.40888889]\n",
      "   [0.66700347 0.46767244 0.90737476 0.25177743 0.12751154]\n",
      "   [0.63216859 0.29270027 0.38768101 0.76054794 0.10959545]]\n",
      "\n",
      "  [[0.09207421 0.33507551 0.83642267 0.69325481 0.77172655]\n",
      "   [0.74153643 0.07445813 0.56731895 0.1994842  0.04641033]\n",
      "   [0.53744522 0.31504511 0.37590402 0.65138145 0.70784987]\n",
      "   [0.19212773 0.9937948  0.20750921 0.80056199 0.8381846 ]]]]\n"
     ]
    }
   ],
   "source": [
    "c = np.random.rand(1,2,4,5)\n",
    "print(c)"
   ]
  },
  {
   "cell_type": "markdown",
   "id": "8677584f",
   "metadata": {},
   "source": [
    "These were the 2,3 and 4 dimensional array's"
   ]
  },
  {
   "cell_type": "code",
   "execution_count": 13,
   "id": "3440ebf8",
   "metadata": {
    "scrolled": true
   },
   "outputs": [
    {
     "name": "stdout",
     "output_type": "stream",
     "text": [
      "[[[ 0  1  2  3  4]\n",
      "  [ 5  6  7  8  9]\n",
      "  [10 11 12 13 14]\n",
      "  [15 16 17 18 19]\n",
      "  [20 21 22 23 24]]\n",
      "\n",
      " [[25 26 27 28 29]\n",
      "  [30 31 32 33 34]\n",
      "  [35 36 37 38 39]\n",
      "  [40 41 42 43 44]\n",
      "  [45 46 47 48 49]]\n",
      "\n",
      " [[50 51 52 53 54]\n",
      "  [55 56 57 58 59]\n",
      "  [60 61 62 63 64]\n",
      "  [65 66 67 68 69]\n",
      "  [70 71 72 73 74]]\n",
      "\n",
      " [[75 76 77 78 79]\n",
      "  [80 81 82 83 84]\n",
      "  [85 86 87 88 89]\n",
      "  [90 91 92 93 94]\n",
      "  [95 96 97 98 99]]]\n"
     ]
    }
   ],
   "source": [
    "d = np.arange(100).reshape(4,5,5)\n",
    "print(d)"
   ]
  },
  {
   "cell_type": "code",
   "execution_count": 14,
   "id": "76fc9383",
   "metadata": {},
   "outputs": [
    {
     "name": "stdout",
     "output_type": "stream",
     "text": [
      "[ 0  1  2  3  4  5  6  7  8  9 10 11 12 13 14 15 16 17 18 19 20 21 22 23\n",
      " 24 25 26 27 28 29 30 31 32 33 34 35 36 37 38 39 40 41 42 43 44 45 46 47\n",
      " 48 49]\n"
     ]
    }
   ],
   "source": [
    "e = np.arange(50)\n",
    "print(e)"
   ]
  },
  {
   "cell_type": "code",
   "execution_count": 18,
   "id": "a79f2d1b",
   "metadata": {},
   "outputs": [],
   "source": [
    "np.zeros?"
   ]
  },
  {
   "cell_type": "code",
   "execution_count": 20,
   "id": "9c88b2b5",
   "metadata": {},
   "outputs": [
    {
     "name": "stdout",
     "output_type": "stream",
     "text": [
      "[[0.]\n",
      " [0.]]\n"
     ]
    }
   ],
   "source": [
    "f = np.zeros((2,1))\n",
    "print(f)"
   ]
  },
  {
   "cell_type": "code",
   "execution_count": 22,
   "id": "43016caf",
   "metadata": {},
   "outputs": [
    {
     "name": "stdout",
     "output_type": "stream",
     "text": [
      "[[1 1 1]\n",
      " [1 1 1]]\n"
     ]
    }
   ],
   "source": [
    "g = np.ones((2,3),dtype=int)\n",
    "print(g)"
   ]
  },
  {
   "cell_type": "code",
   "execution_count": 24,
   "id": "d36b8d66",
   "metadata": {},
   "outputs": [
    {
     "name": "stdout",
     "output_type": "stream",
     "text": [
      "[[1. 1. 1.]\n",
      " [1. 1. 1.]]\n"
     ]
    }
   ],
   "source": [
    "g = np.ones((2,3))\n",
    "print(g)"
   ]
  },
  {
   "cell_type": "code",
   "execution_count": 25,
   "id": "ea4e008e",
   "metadata": {},
   "outputs": [],
   "source": [
    "#SLICING"
   ]
  },
  {
   "cell_type": "code",
   "execution_count": 27,
   "id": "870d84ba",
   "metadata": {},
   "outputs": [
    {
     "name": "stdout",
     "output_type": "stream",
     "text": [
      "[2 3 4 5 6 7 8 9]\n"
     ]
    }
   ],
   "source": [
    "a = np.arange(10)\n",
    "b = a[2:11]\n",
    "print(b)"
   ]
  },
  {
   "cell_type": "code",
   "execution_count": 28,
   "id": "e2edb27d",
   "metadata": {},
   "outputs": [
    {
     "name": "stdout",
     "output_type": "stream",
     "text": [
      "[1400    3    4    5    6    7    8    9]\n"
     ]
    }
   ],
   "source": [
    "b[0] = 1400\n",
    "print(b)"
   ]
  },
  {
   "cell_type": "code",
   "execution_count": 30,
   "id": "e951c723",
   "metadata": {},
   "outputs": [
    {
     "name": "stdout",
     "output_type": "stream",
     "text": [
      "[   0    1 1400    3    4    5    6    7    8    9]\n"
     ]
    }
   ],
   "source": [
    "print(a)\n",
    "#value of a has also changed "
   ]
  },
  {
   "cell_type": "code",
   "execution_count": 31,
   "id": "d5402868",
   "metadata": {},
   "outputs": [],
   "source": [
    "#if we change the function using copy() the other list will not get changed"
   ]
  },
  {
   "cell_type": "code",
   "execution_count": 33,
   "id": "7613b2ba",
   "metadata": {},
   "outputs": [
    {
     "name": "stdout",
     "output_type": "stream",
     "text": [
      "[3 4 5 6 7 8 9]\n"
     ]
    }
   ],
   "source": [
    "b = a[3:10].copy()\n",
    "print(b)"
   ]
  },
  {
   "cell_type": "code",
   "execution_count": 34,
   "id": "4754c0fa",
   "metadata": {},
   "outputs": [
    {
     "name": "stdout",
     "output_type": "stream",
     "text": [
      "[100   4   5   6   7   8   9]\n"
     ]
    }
   ],
   "source": [
    "b[0]=100\n",
    "print(b)"
   ]
  },
  {
   "cell_type": "code",
   "execution_count": 35,
   "id": "946893cd",
   "metadata": {},
   "outputs": [
    {
     "name": "stdout",
     "output_type": "stream",
     "text": [
      "[   0    1 1400    3    4    5    6    7    8    9]\n"
     ]
    }
   ],
   "source": [
    "print(a)"
   ]
  },
  {
   "cell_type": "code",
   "execution_count": 36,
   "id": "7f65bc7e",
   "metadata": {},
   "outputs": [],
   "source": [
    "#the value at 3 has not changed"
   ]
  },
  {
   "cell_type": "code",
   "execution_count": 6,
   "id": "8af09280",
   "metadata": {},
   "outputs": [
    {
     "name": "stdout",
     "output_type": "stream",
     "text": [
      "[0.11921018 0.76617883 0.00923568 0.74766493 0.12632434 0.43867972\n",
      " 0.62816354 0.71525161 0.10923641 0.81762706]\n"
     ]
    },
    {
     "data": {
      "text/plain": [
       "(array([1., 3., 0., 0., 0., 1., 0., 1., 1., 3.]),\n",
       " array([0.00923568, 0.09007482, 0.17091396, 0.2517531 , 0.33259223,\n",
       "        0.41343137, 0.49427051, 0.57510965, 0.65594878, 0.73678792,\n",
       "        0.81762706]),\n",
       " <BarContainer object of 10 artists>)"
      ]
     },
     "execution_count": 6,
     "metadata": {},
     "output_type": "execute_result"
    },
    {
     "data": {
      "image/png": "[encoded data removed]",
      "text/plain": [
       "<Figure size 432x288 with 1 Axes>"
      ]
     },
     "metadata": {
      "needs_background": "light"
     },
     "output_type": "display_data"
    }
   ],
   "source": [
    "import numpy as np\n",
    "import matplotlib.pyplot as plt\n",
    "i = np.random.rand(10)\n",
    "print(i)\n",
    "plt.hist(i)"
   ]
  },
  {
   "cell_type": "code",
   "execution_count": 18,
   "id": "96be6f17",
   "metadata": {},
   "outputs": [
    {
     "name": "stdout",
     "output_type": "stream",
     "text": [
      "[ 0  1  2  3  4  5  6  7  8  9 10 11 12 13 14 15 16 17 18 19 20 21 22 23\n",
      " 24 25 26 27 28 29 30 31 32 33 34 35 36 37 38 39 40 41 42 43 44 45 46 47\n",
      " 48 49 50 51 52 53 54 55 56 57 58 59 60 61 62 63 64 65 66 67 68 69 70 71\n",
      " 72 73 74 75 76 77 78 79 80 81 82 83 84 85 86 87 88 89 90 91 92 93 94 95\n",
      " 96 97 98 99]\n",
      "[[4. 1. 6. 8.]\n",
      " [2. 3. 9. 4.]\n",
      " [6. 6. 0. 1.]\n",
      " [7. 2. 4. 2.]\n",
      " [6. 3. 9. 7.]]\n",
      "9.0\n",
      "18.0\n",
      "[1. 3. 6. 2. 3.]\n",
      "[[9. 4.]\n",
      " [0. 1.]]\n",
      "[[4. 2. 6. 7. 6.]\n",
      " [1. 3. 6. 2. 3.]\n",
      " [6. 9. 0. 4. 9.]\n",
      " [8. 4. 1. 2. 7.]]\n"
     ]
    }
   ],
   "source": [
    "a = np.arange(100)\n",
    "print(a)\n",
    "b = np.round(10*np.random.rand(5,4))\n",
    "print(b)\n",
    "print(b[1,2])\n",
    "print(sum(b[1,:]))\n",
    "print(b[:,1])\n",
    "print(b[1:3,2:4])\n",
    "print(b.T)  #T is transpose"
   ]
  },
  {
   "cell_type": "code",
   "execution_count": 23,
   "id": "624b707b",
   "metadata": {},
   "outputs": [
    {
     "name": "stdout",
     "output_type": "stream",
     "text": [
      "[[0.95736078 0.38214182 0.15111617]\n",
      " [0.74853543 0.35035723 0.95702678]\n",
      " [0.42123129 0.29393425 0.3384724 ]]\n",
      "[[ 1.85753611  0.9694983  -3.57057055]\n",
      " [-1.70975157 -2.97249876  9.16805045]\n",
      " [-0.82694421  1.37481275 -0.56361458]]\n",
      "None\n"
     ]
    }
   ],
   "source": [
    "import numpy as np\n",
    "import numpy.linalg as la\n",
    "a = np.random.rand(3,3)\n",
    "print(a)\n",
    "print(la.inv(a))"
   ]
  },
  {
   "cell_type": "code",
   "execution_count": 38,
   "id": "e0cd2d25",
   "metadata": {},
   "outputs": [
    {
     "name": "stdout",
     "output_type": "stream",
     "text": [
      "[[ 1 20  8]\n",
      " [25 24  3]\n",
      " [45 23 29]\n",
      " [ 1 45  3]]\n",
      "None\n"
     ]
    }
   ],
   "source": [
    "import numpy as np\n",
    "c = np.array([[1,20,8],[25,24,3],[45,23,29],[1,45,3]])\n",
    "print(c)\n",
    "print(c.sort(axis = 1))"
   ]
  },
  {
   "cell_type": "code",
   "execution_count": 54,
   "id": "70347ccd",
   "metadata": {},
   "outputs": [
    {
     "name": "stdout",
     "output_type": "stream",
     "text": [
      "[[ 1 52  3]\n",
      " [ 4 52  6]\n",
      " [28  8  0]]\n",
      "None\n"
     ]
    }
   ],
   "source": [
    "import numpy as np\n",
    "a = np.array(([1,52,3],[4,52,6],[28,8,0]))\n",
    "print(a)\n",
    "print(a.sort(axis=0))"
   ]
  },
  {
   "cell_type": "code",
   "execution_count": 11,
   "id": "5e876f1f",
   "metadata": {},
   "outputs": [
    {
     "name": "stdout",
     "output_type": "stream",
     "text": [
      "[ 0  1  2  3  4  5  6  7  8  9 10 11 12 13 14 15 16 17 18 19 20 21 22 23\n",
      " 24 25 26 27 28 29 30 31 32 33 34 35 36 37 38 39 40 41 42 43 44 45 46 47\n",
      " 48 49 50 51 52 53 54 55 56 57 58 59 60 61 62 63 64 65 66 67 68 69 70 71\n",
      " 72 73 74 75 76 77 78 79 80 81 82 83 84 85 86 87 88 89 90 91 92 93 94 95\n",
      " 96 97 98 99]\n",
      "[31 32 33 34 35 36 37 38 39 40 41 42 43 44 45 46 47 48 49]\n"
     ]
    }
   ],
   "source": [
    "import numpy as np\n",
    "a = np.arange(100)\n",
    "b = a[a<50]\n",
    "print(a)\n",
    "b\n",
    "c = a[(a<50) & (a>30)]\n",
    "print(c)"
   ]
  },
  {
   "cell_type": "code",
   "execution_count": 3,
   "id": "1d9414bf",
   "metadata": {},
   "outputs": [
    {
     "name": "stdout",
     "output_type": "stream",
     "text": [
      "[[6 7]\n",
      " [6 7]]\n"
     ]
    }
   ],
   "source": [
    "import numpy as np\n",
    "a = np.array(([1,2],[1,2]))\n",
    "a = a + 5\n",
    "print(a)"
   ]
  },
  {
   "cell_type": "code",
   "execution_count": null,
   "id": "99b6b3e1",
   "metadata": {},
   "outputs": [],
   "source": []
  }
 ],
 "metadata": {
  "kernelspec": {
   "display_name": "Python 3 (ipykernel)",
   "language": "python",
   "name": "python3"
  },
  "language_info": {
   "codemirror_mode": {
    "name": "ipython",
    "version": 3
   },
   "file_extension": ".py",
   "mimetype": "text/x-python",
   "name": "python",
   "nbconvert_exporter": "python",
   "pygments_lexer": "ipython3",
   "version": "3.9.12"
  }
 },
 "nbformat": 4,
 "nbformat_minor": 5
}
